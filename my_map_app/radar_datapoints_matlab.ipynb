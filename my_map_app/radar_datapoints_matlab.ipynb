{
 "cells": [
  {
   "cell_type": "code",
   "execution_count": 1,
   "id": "34b1dddf",
   "metadata": {},
   "outputs": [
    {
     "name": "stdout",
     "output_type": "stream",
     "text": [
      "Requirement already satisfied: matlab in /opt/anaconda3/lib/python3.11/site-packages (0.1)\r\n"
     ]
    }
   ],
   "source": [
    "!pip install matlab"
   ]
  },
  {
   "cell_type": "code",
   "execution_count": 6,
   "id": "0cc63850",
   "metadata": {},
   "outputs": [
    {
     "ename": "NameError",
     "evalue": "name 'cd' is not defined",
     "output_type": "error",
     "traceback": [
      "\u001b[0;31m---------------------------------------------------------------------------\u001b[0m",
      "\u001b[0;31mNameError\u001b[0m                                 Traceback (most recent call last)",
      "Cell \u001b[0;32mIn[6], line 1\u001b[0m\n\u001b[0;32m----> 1\u001b[0m cd (fullfile(matlabroot,\u001b[38;5;124m'\u001b[39m\u001b[38;5;124mextern\u001b[39m\u001b[38;5;124m'\u001b[39m,\u001b[38;5;124m'\u001b[39m\u001b[38;5;124mengines\u001b[39m\u001b[38;5;124m'\u001b[39m,\u001b[38;5;124m'\u001b[39m\u001b[38;5;124mpython\u001b[39m\u001b[38;5;124m'\u001b[39m))\n\u001b[1;32m      2\u001b[0m system(\u001b[38;5;124m'\u001b[39m\u001b[38;5;124mpython setup.py install\u001b[39m\u001b[38;5;124m'\u001b[39m)\n",
      "\u001b[0;31mNameError\u001b[0m: name 'cd' is not defined"
     ]
    }
   ],
   "source": [
    "cd (fullfile(matlabroot,'extern','engines','python'))\n",
    "system('python setup.py install')"
   ]
  },
  {
   "cell_type": "code",
   "execution_count": null,
   "id": "4b634456",
   "metadata": {},
   "outputs": [],
   "source": []
  },
  {
   "cell_type": "code",
   "execution_count": null,
   "id": "76100039",
   "metadata": {},
   "outputs": [],
   "source": []
  },
  {
   "cell_type": "code",
   "execution_count": 5,
   "id": "3691362f",
   "metadata": {},
   "outputs": [
    {
     "ename": "SyntaxError",
     "evalue": "invalid syntax (2576322855.py, line 2)",
     "output_type": "error",
     "traceback": [
      "\u001b[0;36m  Cell \u001b[0;32mIn[5], line 2\u001b[0;36m\u001b[0m\n\u001b[0;31m    fc = 77e9;             % Carrier frequency (Hz)\u001b[0m\n\u001b[0m                           ^\u001b[0m\n\u001b[0;31mSyntaxError\u001b[0m\u001b[0;31m:\u001b[0m invalid syntax\n"
     ]
    }
   ],
   "source": [
    "% Radar parameters\n",
    "fc = 77e9;             % Carrier frequency (Hz)\n",
    "fs = 1e6;              % Sampling rate (Hz)\n",
    "c = physconst('LightSpeed'); % Speed of light (m/s)\n",
    "pulseWidth = 1e-6;     % Pulse width (s)\n",
    "prf = 1e3;             % Pulse repetition frequency (Hz)\n",
    "rangeMax = 500;        % Maximum unambiguous range (m)\n",
    "\n",
    "% Define the radar system\n",
    "waveform = phased.RectangularWaveform('PulseWidth', pulseWidth, ...\n",
    "    'PRF', prf, 'SampleRate', fs);\n",
    "transmitter = phased.Transmitter('PeakPower', 1e3, 'Gain', 20);\n",
    "receiver = phased.ReceiverPreamp('Gain', 40, 'NoiseFigure', 5, ...\n",
    "    'SampleRate', fs);\n",
    "\n",
    "% Define the target\n",
    "target = phased.RadarTarget('MeanRCS', 1, 'OperatingFrequency', fc);\n",
    "targetPlatform = phased.Platform('InitialPosition', [100; 0; 0], ...\n",
    "    'Velocity', [30; 0; 0]);\n",
    "\n",
    "% Define the radar platform\n",
    "radarPlatform = phased.Platform('InitialPosition', [0; 0; 0], ...\n",
    "    'Velocity', [0; 0; 0]);\n",
    "\n",
    "% Create a radar signal collector\n",
    "collector = phased.Collector('Sensor', phased.IsotropicAntennaElement, ...\n",
    "    'OperatingFrequency', fc);\n",
    "\n",
    "% Create a free space channel\n",
    "channel = phased.FreeSpace('SampleRate', fs, 'TwoWayPropagation', true, ...\n",
    "    'OperatingFrequency', fc);\n",
    "\n",
    "% Simulate one pulse\n",
    "txsig = waveform();\n",
    "txsig = transmitter(txsig);\n",
    "\n",
    "% Propagate the signal to the target\n",
    "[tgtpos, tgtvel] = targetPlatform(1/fs);\n",
    "[radpos, radvel] = radarPlatform(1/fs);\n",
    "txsig = channel(txsig, radpos, tgtpos, radvel, tgtvel);\n",
    "\n",
    "% Reflect the signal off the target\n",
    "txsig = target(txsig);\n",
    "\n",
    "% Propagate the signal back to the radar\n",
    "txsig = channel(txsig, tgtpos, radpos, tgtvel, radvel);\n",
    "\n",
    "% Receive the signal\n",
    "rxsig = receiver(txsig);\n",
    "\n",
    "% Collect the signal\n",
    "rxsig = collector(rxsig, radpos);\n",
    "\n",
    "% Plot the received signal\n",
    "t = (0:length(rxsig)-1)/fs;\n",
    "figure;\n",
    "plot(t*1e6, abs(rxsig));\n",
    "xlabel('Time (\\mus)');\n",
    "ylabel('Amplitude');\n",
    "title('Received Radar Signal');\n",
    "\n",
    "% Matched filter to improve SNR\n",
    "mf = phased.MatchedFilter('Coefficients', getMatchedFilter(waveform));\n",
    "rxsig_filt = mf(rxsig);\n",
    "t_filt = unigrid(0, size(rxsig_filt, 1)-1, size(rxsig_filt, 1), 'column')/fs;\n",
    "\n",
    "% Detect peaks\n",
    "threshold = 0.5 * max(abs(rxsig_filt));\n",
    "detected = abs(rxsig_filt) > threshold;\n",
    "\n",
    "% Estimate range\n",
    "[~, rangeBins] = findpeaks(abs(rxsig_filt), 'MinPeakHeight', threshold);\n",
    "range = rangeBins * (c / (2 * fs));\n",
    "\n",
    "% Display detected range\n",
    "disp(['Detected range: ', num2str(range), ' meters']);\n",
    "\n",
    "% Save the radar data\n",
    "save('radar_data.mat', 'rxsig', 't', 'range');\n"
   ]
  },
  {
   "cell_type": "code",
   "execution_count": null,
   "id": "a4e112b9",
   "metadata": {},
   "outputs": [],
   "source": []
  }
 ],
 "metadata": {
  "kernelspec": {
   "display_name": "Python 3 (ipykernel)",
   "language": "python",
   "name": "python3"
  },
  "language_info": {
   "codemirror_mode": {
    "name": "ipython",
    "version": 3
   },
   "file_extension": ".py",
   "mimetype": "text/x-python",
   "name": "python",
   "nbconvert_exporter": "python",
   "pygments_lexer": "ipython3",
   "version": "3.11.7"
  }
 },
 "nbformat": 4,
 "nbformat_minor": 5
}
